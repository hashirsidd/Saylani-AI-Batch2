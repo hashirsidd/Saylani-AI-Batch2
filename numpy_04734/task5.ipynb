{
 "cells": [
  {
   "cell_type": "code",
   "execution_count": null,
   "metadata": {},
   "outputs": [],
   "source": []
  },
  {
   "cell_type": "code",
   "execution_count": null,
   "metadata": {},
   "outputs": [],
   "source": []
  },
  {
   "cell_type": "code",
   "execution_count": 2,
   "metadata": {},
   "outputs": [],
   "source": [
    "import numpy as np\n",
    "\n",
    "def rotate_coords(x, y, theta, ox, oy):\n",
    "    \"\"\"Rotate arrays of coordinates x and y by theta radians about the\n",
    "    point (ox, oy).\n",
    "\n",
    "    \"\"\"\n",
    "    s, c = np.sin(theta), np.cos(theta)\n",
    "    x, y = np.asarray(x) - ox, np.asarray(y) - oy\n",
    "    return x * c - y * s + ox, x * s + y * c + oy\n",
    "\n",
    "def rotate_image(src, theta, ox, oy, fill=255):\n",
    "    \"\"\"Rotate the image src by theta radians about (ox, oy).\n",
    "    Pixels in the result that don't correspond to pixels in src are\n",
    "    replaced by the value fill.\n",
    "\n",
    "    \"\"\"\n",
    "    # Images have origin at the top left, so negate the angle.\n",
    "    theta = -theta\n",
    "\n",
    "    # Dimensions of source image. Note that scipy.misc.imread loads\n",
    "    # images in row-major order, so src.shape gives (height, width).\n",
    "    sh, sw = src.shape\n",
    "\n",
    "    # Rotated positions of the corners of the source image.\n",
    "    cx, cy = rotate_coords([0, sw, sw, 0], [0, 0, sh, sh], theta, ox, oy)\n",
    "\n",
    "    # Determine dimensions of destination image.\n",
    "    dw, dh = (int(np.ceil(c.max() - c.min())) for c in (cx, cy))\n",
    "\n",
    "    # Coordinates of pixels in destination image.\n",
    "    dx, dy = np.meshgrid(np.arange(dw), np.arange(dh))\n",
    "\n",
    "    # Corresponding coordinates in source image. Since we are\n",
    "    # transforming dest-to-src here, the rotation is negated.\n",
    "    sx, sy = rotate_coords(dx + cx.min(), dy + cy.min(), -theta, ox, oy)\n",
    "\n",
    "    # Select nearest neighbour.\n",
    "    sx, sy = sx.round().astype(int), sy.round().astype(int)\n",
    "\n",
    "    # Mask for valid coordinates.\n",
    "    mask = (0 <= sx) & (sx < sw) & (0 <= sy) & (sy < sh)\n",
    "\n",
    "    # Create destination image.\n",
    "    dest = np.empty(shape=(dh, dw), dtype=src.dtype)\n",
    "\n",
    "    # Copy valid coordinates from source image.\n",
    "    dest[dy[mask], dx[mask]] = src[sy[mask], sx[mask]]\n",
    "\n",
    "    # Fill invalid coordinates.\n",
    "    dest[dy[~mask], dx[~mask]] = fill\n",
    "\n",
    "    return dest"
   ]
  },
  {
   "cell_type": "code",
   "execution_count": 9,
   "metadata": {},
   "outputs": [
    {
     "name": "stderr",
     "output_type": "stream",
     "text": [
      "C:\\softwares\\anaconda\\lib\\site-packages\\ipykernel_launcher.py:2: DeprecationWarning: `imread` is deprecated!\n",
      "`imread` is deprecated in SciPy 1.0.0, and will be removed in 1.2.0.\n",
      "Use ``imageio.imread`` instead.\n",
      "  \n"
     ]
    },
    {
     "ename": "ValueError",
     "evalue": "too many values to unpack (expected 2)",
     "output_type": "error",
     "traceback": [
      "\u001b[1;31m---------------------------------------------------------------------------\u001b[0m",
      "\u001b[1;31mValueError\u001b[0m                                Traceback (most recent call last)",
      "\u001b[1;32m<ipython-input-9-e25108d697e5>\u001b[0m in \u001b[0;36m<module>\u001b[1;34m\u001b[0m\n\u001b[0;32m      3\u001b[0m \u001b[1;32mfor\u001b[0m \u001b[0mangle\u001b[0m \u001b[1;32min\u001b[0m \u001b[1;33m(\u001b[0m\u001b[1;36m45\u001b[0m\u001b[1;33m,\u001b[0m \u001b[1;36m75\u001b[0m\u001b[1;33m,\u001b[0m \u001b[1;36m90\u001b[0m\u001b[1;33m,\u001b[0m \u001b[1;36m120\u001b[0m\u001b[1;33m)\u001b[0m\u001b[1;33m:\u001b[0m\u001b[1;33m\u001b[0m\u001b[1;33m\u001b[0m\u001b[0m\n\u001b[0;32m      4\u001b[0m     imsave('2-{}.jpg'.format(angle),\n\u001b[1;32m----> 5\u001b[1;33m         rotate_image(img, angle * np.pi / 180, 100, 100))\n\u001b[0m",
      "\u001b[1;32m<ipython-input-2-464187847fd9>\u001b[0m in \u001b[0;36mrotate_image\u001b[1;34m(src, theta, ox, oy, fill)\u001b[0m\n\u001b[0;32m     21\u001b[0m     \u001b[1;31m# Dimensions of source image. Note that scipy.misc.imread loads\u001b[0m\u001b[1;33m\u001b[0m\u001b[1;33m\u001b[0m\u001b[1;33m\u001b[0m\u001b[0m\n\u001b[0;32m     22\u001b[0m     \u001b[1;31m# images in row-major order, so src.shape gives (height, width).\u001b[0m\u001b[1;33m\u001b[0m\u001b[1;33m\u001b[0m\u001b[1;33m\u001b[0m\u001b[0m\n\u001b[1;32m---> 23\u001b[1;33m     \u001b[0msh\u001b[0m\u001b[1;33m,\u001b[0m \u001b[0msw\u001b[0m \u001b[1;33m=\u001b[0m \u001b[0msrc\u001b[0m\u001b[1;33m.\u001b[0m\u001b[0mshape\u001b[0m\u001b[1;33m\u001b[0m\u001b[1;33m\u001b[0m\u001b[0m\n\u001b[0m\u001b[0;32m     24\u001b[0m \u001b[1;33m\u001b[0m\u001b[0m\n\u001b[0;32m     25\u001b[0m     \u001b[1;31m# Rotated positions of the corners of the source image.\u001b[0m\u001b[1;33m\u001b[0m\u001b[1;33m\u001b[0m\u001b[1;33m\u001b[0m\u001b[0m\n",
      "\u001b[1;31mValueError\u001b[0m: too many values to unpack (expected 2)"
     ]
    }
   ],
   "source": [
    "from scipy.misc import imread, imsave\n",
    "img = imread('2.jpg')\n",
    "for angle in (45, 75, 90, 120):\n",
    "    imsave('2-{}.jpg'.format(angle),\n",
    "        rotate_image(img, angle * np.pi / 180, 100, 100))"
   ]
  },
  {
   "cell_type": "code",
   "execution_count": null,
   "metadata": {},
   "outputs": [],
   "source": []
  }
 ],
 "metadata": {
  "kernelspec": {
   "display_name": "Python 3",
   "language": "python",
   "name": "python3"
  },
  "language_info": {
   "codemirror_mode": {
    "name": "ipython",
    "version": 3
   },
   "file_extension": ".py",
   "mimetype": "text/x-python",
   "name": "python",
   "nbconvert_exporter": "python",
   "pygments_lexer": "ipython3",
   "version": "3.7.3"
  }
 },
 "nbformat": 4,
 "nbformat_minor": 2
}
